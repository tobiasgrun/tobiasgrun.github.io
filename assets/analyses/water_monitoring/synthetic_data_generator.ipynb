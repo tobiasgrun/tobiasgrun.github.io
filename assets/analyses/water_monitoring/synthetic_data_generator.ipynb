{
 "cells": [
  {
   "cell_type": "markdown",
   "id": "bcf67e7f-6196-4be2-8f00-61c1226f0000",
   "metadata": {},
   "source": [
    "# Generation of Synthetic Waterquality Data\n",
    "LLMs (ChatGPT) have been used in this code to overcome some roadblocks."
   ]
  },
  {
   "cell_type": "markdown",
   "id": "e809d298-f38c-4051-8add-534f79f1a3f5",
   "metadata": {},
   "source": [
    "### Install Libraries"
   ]
  },
  {
   "cell_type": "code",
   "execution_count": 12,
   "id": "1bc4345c-80bf-4c98-ba42-3c960d8a397b",
   "metadata": {},
   "outputs": [],
   "source": [
    "#!pip install numpy\n",
    "#!pip install pandas"
   ]
  },
  {
   "cell_type": "markdown",
   "id": "0916ff5f-20a8-4ab5-aad7-f4902ada7039",
   "metadata": {},
   "source": [
    "### Import Libraries"
   ]
  },
  {
   "cell_type": "code",
   "execution_count": 1,
   "id": "892a1f5e-6c8e-4acb-b890-789d78190383",
   "metadata": {},
   "outputs": [],
   "source": [
    "import numpy as np\n",
    "import pandas as pd"
   ]
  },
  {
   "cell_type": "markdown",
   "id": "1d6dbb01-2056-4723-9c0e-3b0549a7a8f0",
   "metadata": {},
   "source": [
    "## Define Sample Sites"
   ]
  },
  {
   "cell_type": "code",
   "execution_count": 2,
   "id": "763257ee-dac6-4ec3-bd0a-b501ef75c256",
   "metadata": {},
   "outputs": [],
   "source": [
    "locations = {\n",
    "    'Sanibel Island': 'mine_leak',\n",
    "    'Boca Grande': 'mine_leak',\n",
    "    'Venice': 'mine_leak',\n",
    "    'Siesta Key': 'none',\n",
    "    'St. Pete Beach': 'sewage_spill',\n",
    "    'Indian Shores': 'sewage_spill',\n",
    "    'Clearwater Beach': 'sewage_spill'\n",
    "}"
   ]
  },
  {
   "cell_type": "markdown",
   "id": "85a336f0-cced-48c2-8c3c-cedd302c9ca8",
   "metadata": {},
   "source": [
    "#### Events\n",
    "* **mine_leak:** A phosphate mine leaked waste water into the Gulf of Mexico in Florida\n",
    "* **sewage_spill:** After a hurricane, sewage water spilled into Florida's Gulf of Mexico"
   ]
  },
  {
   "cell_type": "markdown",
   "id": "5e275f6e-ca6f-42a7-902c-81833acce1a5",
   "metadata": {},
   "source": [
    "## Define Water Quality Parameters"
   ]
  },
  {
   "cell_type": "code",
   "execution_count": 3,
   "id": "51829926-9332-4aee-9eb9-da0a3ab4b23e",
   "metadata": {},
   "outputs": [],
   "source": [
    "parameters = {\n",
    "    'Water Temperature': (26, 2, 22, 32, 0, 0),\n",
    "    'pH': (8.1, 0.3, 7.5, 9.5, 0, 0),\n",
    "    'Salinity': (32, 3, 20, 37, 1, 2),\n",
    "    'Dissolved Oxygen': (6.5, 1, 3.0, 9.0, 1, 3),\n",
    "    'Nitrate': (0.05, 0.02, 0.01, 0.1, 0.01, 0.03),\n",
    "    'Phosphate': (0.03, 0.01, 0.01, 0.08, 0.01, 0.03),\n",
    "    'Silicate': (2.5, 0.5, 1.0, 3.5, 0.5, 1),\n",
    "    'Chlorophyll-a': (3.0, 2.0, 0.5, 15.0, 0.5, 1),\n",
    "    'Karenia brevis': (1000, 5000, 0, 200000, 100, 500),\n",
    "    'Biochemical Oxygen Demand': (2, 1, 1, 5, 0.1, 0.2),\n",
    "    'Escherichia coli': (20, 10, 0, 100, 0, 0),\n",
    "    'Enterococcus': (15, 8, 0, 80, 1, 5)     \n",
    "}"
   ]
  },
  {
   "cell_type": "markdown",
   "id": "3da7278b-4e8b-4ed3-8586-35484717d8bb",
   "metadata": {},
   "source": [
    "#### Key\n",
    "**'parameter [unit]': (baseline value, variation, min_value, max_value, small_min, small_max)**\n",
    "* **baseline value:** realistic median value for parameter\n",
    "* **variation:** fluctuation around baseline value\n",
    "* **min_value:** lower limit of realistic values\n",
    "* **max_value:** upper limit of realistic values\n",
    "* **small_min:** lower limit of noise\n",
    "* **small_max:** upper limit of noise"
   ]
  },
  {
   "cell_type": "markdown",
   "id": "019e1682-9ae9-40f5-8b92-7124fd205ebe",
   "metadata": {},
   "source": [
    "## Generate Synthetic Data"
   ]
  },
  {
   "cell_type": "code",
   "execution_count": 4,
   "id": "66206c1f-e76b-4c3e-a750-dcf41693a336",
   "metadata": {},
   "outputs": [
    {
     "name": "stdout",
     "output_type": "stream",
     "text": [
      "          Date      Time  Location ID  Parameter ID    Value\n",
      "0   2024-02-06  12:00:00            1             1   25.498\n",
      "1   2024-02-06  12:00:00            1             2    8.239\n",
      "2   2024-02-06  12:00:00            1             3   31.092\n",
      "3   2024-02-06  12:00:00            1             4    8.348\n",
      "4   2024-02-06  12:00:00            1             5    0.078\n",
      "5   2024-02-06  12:00:00            1             6    0.097\n",
      "6   2024-02-06  12:00:00            1             7    0.040\n",
      "7   2024-02-06  12:00:00            1             8    4.611\n",
      "8   2024-02-06  12:00:00            1             9  309.903\n",
      "9   2024-02-06  12:00:00            1            10    1.993\n",
      "10  2024-02-06  12:00:00            1            11   22.237\n",
      "11  2024-02-06  12:00:00            1            12   14.139\n",
      "12  2024-02-07  12:00:00            1             1   25.824\n",
      "13  2024-02-07  12:00:00            1             2    7.920\n",
      "14  2024-02-07  12:00:00            1             3   33.600\n",
      "15  2024-02-07  12:00:00            1             4    8.056\n",
      "16  2024-02-07  12:00:00            1             5    0.062\n",
      "17  2024-02-07  12:00:00            1             6    0.128\n",
      "18  2024-02-07  12:00:00            1             7    0.066\n",
      "19  2024-02-07  12:00:00            1             8    8.810\n",
      "20  2024-02-07  12:00:00            1             9  298.071\n",
      "21  2024-02-07  12:00:00            1            10    1.260\n",
      "22  2024-02-07  12:00:00            1            11   15.176\n",
      "23  2024-02-07  12:00:00            1            12   15.067\n",
      "24  2024-02-08  12:00:00            1             1   26.187\n"
     ]
    }
   ],
   "source": [
    "# Set random seed for reproducibility\n",
    "np.random.seed(42)\n",
    "\n",
    "# Function to generate synthetic values with small variation\n",
    "def synthetic_values(base, variation, min_value, max_value, small_min, small_max):\n",
    "    value = round(max(min(base + np.random.uniform(-variation, variation), max_value), min_value), 3)\n",
    "    value += round(np.random.uniform(small_min, small_max), 3)\n",
    "    return round(value, 3)\n",
    "\n",
    "# Function to apply event impact on parameters\n",
    "def event(location, date, param, base_value):\n",
    "    start_date = pd.Timestamp(\"2024-02-05\")\n",
    "\n",
    "    if locations[location] == 'mine_leak':\n",
    "        if date < pd.Timestamp(\"2024-05-01\"):\n",
    "            days_since_start = (date - start_date).days\n",
    "            total_days = (pd.Timestamp(\"2024-05-01\") - start_date).days\n",
    "            decay_factor = 1 - (days_since_start / total_days)\n",
    "            \n",
    "            if param == 'Phosphate' or param == 'Chlorophyll-a':\n",
    "                return base_value * (1 + decay_factor)\n",
    "            elif param == 'Silicate':\n",
    "                return base_value * (1 - decay_factor)\n",
    "\n",
    "    elif locations[location] == 'sewage_spill':\n",
    "        event_date = pd.Timestamp(\"2024-09-26\")\n",
    "        if date >= event_date:\n",
    "            days_since_event = (date - event_date).days\n",
    "            if days_since_event == 0:\n",
    "                if param in ['Phosphate', 'Nitrate', 'Escherichia coli', 'Enterococcus', 'Biochemical Oxygen Demand']:\n",
    "                    return base_value * 5\n",
    "                elif param == 'Dissolved Oxygen':\n",
    "                    return base_value * 0.5\n",
    "            else:\n",
    "                decay_factor = np.exp(-days_since_event / 30)\n",
    "                if param in ['Phosphate', 'Nitrate', 'Escherichia coli', 'Enterococcus', 'Biochemical Oxygen Demand']:\n",
    "                    return base_value * (1 + decay_factor)\n",
    "                elif param == 'Dissolved Oxygen':\n",
    "                    return base_value * (1 - decay_factor)\n",
    "\n",
    "    return base_value\n",
    "\n",
    "# Generate data for the past year ending on February 4th, 2025\n",
    "end_date = pd.Timestamp('2025-02-04')\n",
    "date_range = pd.date_range(end=end_date, periods=365)\n",
    "\n",
    "# Create an empty list to store long-format data\n",
    "data = []\n",
    "\n",
    "# Loop through each location and date to generate data\n",
    "for location in locations.keys():\n",
    "    for date in date_range:\n",
    "        time_str = '12:00:00'\n",
    "        for param, values in parameters.items():\n",
    "            base, variation, min_value, max_value, small_min, small_max = values\n",
    "            base_value = synthetic_values(base, variation, min_value, max_value, small_min, small_max)\n",
    "            adjusted_value = event(location, date, param, base_value)\n",
    "            data.append([date.strftime('%Y-%m-%d'), time_str, location, param, round(adjusted_value, 3)])\n",
    "\n",
    "# Convert to DataFrame\n",
    "synthetic_data = pd.DataFrame(data, columns=['Date', 'Time', 'Location ID', 'Parameter ID', 'Value'])\n",
    "\n",
    "# Normalization through mapping\n",
    "location_mapping = {\n",
    "    'Sanibel Island': 1,\n",
    "    'Boca Grande': 2,\n",
    "    'Venice': 3,\n",
    "    'Siesta Key': 4,\n",
    "    'St. Pete Beach': 5,\n",
    "    'Indian Shores': 6,\n",
    "    'Clearwater Beach': 7\n",
    "}\n",
    "\n",
    "parameter_mapping = {\n",
    "    'Water Temperature': 1,\n",
    "    'pH': 2,\n",
    "    'Salinity': 3,\n",
    "    'Dissolved Oxygen': 4,\n",
    "    'Nitrate': 5,\n",
    "    'Phosphate': 6,\n",
    "    'Silicate': 7,\n",
    "    'Chlorophyll-a': 8,\n",
    "    'Karenia brevis': 9,\n",
    "    'Biochemical Oxygen Demand': 10,\n",
    "    'Escherichia coli': 11,\n",
    "    'Enterococcus': 12\n",
    "}\n",
    "\n",
    "# Replace location and parameter names with IDs\n",
    "synthetic_data['Location ID'] = synthetic_data['Location ID'].map(location_mapping)\n",
    "synthetic_data['Parameter ID'] = synthetic_data['Parameter ID'].map(parameter_mapping)\n",
    "\n",
    "# Save to CSV\n",
    "synthetic_data.to_csv('FactData.csv', index=False)\n",
    "\n",
    "# Print sample data\n",
    "print(synthetic_data.head(25))"
   ]
  }
 ],
 "metadata": {
  "kernelspec": {
   "display_name": "Python 3 (ipykernel)",
   "language": "python",
   "name": "python3"
  },
  "language_info": {
   "codemirror_mode": {
    "name": "ipython",
    "version": 3
   },
   "file_extension": ".py",
   "mimetype": "text/x-python",
   "name": "python",
   "nbconvert_exporter": "python",
   "pygments_lexer": "ipython3",
   "version": "3.12.5"
  }
 },
 "nbformat": 4,
 "nbformat_minor": 5
}
